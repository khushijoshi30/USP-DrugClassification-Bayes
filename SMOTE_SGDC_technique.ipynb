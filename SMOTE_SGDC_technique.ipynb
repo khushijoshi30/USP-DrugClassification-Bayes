{
  "nbformat": 4,
  "nbformat_minor": 0,
  "metadata": {
    "colab": {
      "provenance": []
    },
    "kernelspec": {
      "name": "python3",
      "display_name": "Python 3"
    },
    "language_info": {
      "name": "python"
    }
  },
  "cells": [
    {
      "cell_type": "code",
      "execution_count": null,
      "metadata": {
        "colab": {
          "base_uri": "https://localhost:8080/",
          "height": 641
        },
        "id": "IzHd_h_s7KVA",
        "outputId": "bb2524f4-69e5-4af5-998e-42a06e3c0bec"
      },
      "outputs": [
        {
          "output_type": "execute_result",
          "data": {
            "text/plain": [
              "                                     usp_category  \\\n",
              "0                                      Analgesics   \n",
              "1                                      Analgesics   \n",
              "2                                      Analgesics   \n",
              "3                                      Analgesics   \n",
              "4                                      Analgesics   \n",
              "...                                           ...   \n",
              "1798  Therapeutic Nutrients/Minerals/Electrolytes   \n",
              "1799  Therapeutic Nutrients/Minerals/Electrolytes   \n",
              "1800  Therapeutic Nutrients/Minerals/Electrolytes   \n",
              "1801  Therapeutic Nutrients/Minerals/Electrolytes   \n",
              "1802  Therapeutic Nutrients/Minerals/Electrolytes   \n",
              "\n",
              "                                 usp_class    usp_drug kegg_id_drug  \\\n",
              "0     Nonsteroidal Anti-inflammatory Drugs   celecoxib          NaN   \n",
              "1     Nonsteroidal Anti-inflammatory Drugs  diclofenac      DG00441   \n",
              "2     Nonsteroidal Anti-inflammatory Drugs  diclofenac      DG00441   \n",
              "3     Nonsteroidal Anti-inflammatory Drugs  diclofenac      DG00441   \n",
              "4     Nonsteroidal Anti-inflammatory Drugs  diclofenac      DG00441   \n",
              "...                                    ...         ...          ...   \n",
              "1798       Electrolyte/Mineral Replacement      sodium          NaN   \n",
              "1799       Electrolyte/Mineral Replacement      sodium          NaN   \n",
              "1800       Electrolyte/Mineral Replacement      sodium          NaN   \n",
              "1801       Electrolyte/Mineral Replacement      sodium          NaN   \n",
              "1802       Electrolyte/Mineral Replacement      sodium          NaN   \n",
              "\n",
              "                          drug_example kegg_id_drug_example    nomenclature  \n",
              "0                            celecoxib               D00567  (JAN/USAN/INN)  \n",
              "1                           diclofenac               D07816      (USAN/INN)  \n",
              "2                 diclofenac potassium               D00903          (USAN)  \n",
              "3                    diclofenac sodium               D00904      (JP17/USP)  \n",
              "4              diclofenac diethylamine               D07817             NaN  \n",
              "...                                ...                  ...             ...  \n",
              "1798                    sodium lactate               D02183       (JAN/USP)  \n",
              "1799   sodium ferric gluconate complex               D05859          (USAN)  \n",
              "1800       sodium phosphate, monobasic               D04400           (USP)  \n",
              "1801         sodium phosphate, dibasic               D05869           (USP)  \n",
              "1802  dibasic sodium phosphate hydrate               D06389          (JP17)  \n",
              "\n",
              "[1803 rows x 7 columns]"
            ],
            "text/html": [
              "\n",
              "  <div id=\"df-bd72cc32-6aa4-47d4-a2cf-1a6add8a96c4\">\n",
              "    <div class=\"colab-df-container\">\n",
              "      <div>\n",
              "<style scoped>\n",
              "    .dataframe tbody tr th:only-of-type {\n",
              "        vertical-align: middle;\n",
              "    }\n",
              "\n",
              "    .dataframe tbody tr th {\n",
              "        vertical-align: top;\n",
              "    }\n",
              "\n",
              "    .dataframe thead th {\n",
              "        text-align: right;\n",
              "    }\n",
              "</style>\n",
              "<table border=\"1\" class=\"dataframe\">\n",
              "  <thead>\n",
              "    <tr style=\"text-align: right;\">\n",
              "      <th></th>\n",
              "      <th>usp_category</th>\n",
              "      <th>usp_class</th>\n",
              "      <th>usp_drug</th>\n",
              "      <th>kegg_id_drug</th>\n",
              "      <th>drug_example</th>\n",
              "      <th>kegg_id_drug_example</th>\n",
              "      <th>nomenclature</th>\n",
              "    </tr>\n",
              "  </thead>\n",
              "  <tbody>\n",
              "    <tr>\n",
              "      <th>0</th>\n",
              "      <td>Analgesics</td>\n",
              "      <td>Nonsteroidal Anti-inflammatory Drugs</td>\n",
              "      <td>celecoxib</td>\n",
              "      <td>NaN</td>\n",
              "      <td>celecoxib</td>\n",
              "      <td>D00567</td>\n",
              "      <td>(JAN/USAN/INN)</td>\n",
              "    </tr>\n",
              "    <tr>\n",
              "      <th>1</th>\n",
              "      <td>Analgesics</td>\n",
              "      <td>Nonsteroidal Anti-inflammatory Drugs</td>\n",
              "      <td>diclofenac</td>\n",
              "      <td>DG00441</td>\n",
              "      <td>diclofenac</td>\n",
              "      <td>D07816</td>\n",
              "      <td>(USAN/INN)</td>\n",
              "    </tr>\n",
              "    <tr>\n",
              "      <th>2</th>\n",
              "      <td>Analgesics</td>\n",
              "      <td>Nonsteroidal Anti-inflammatory Drugs</td>\n",
              "      <td>diclofenac</td>\n",
              "      <td>DG00441</td>\n",
              "      <td>diclofenac potassium</td>\n",
              "      <td>D00903</td>\n",
              "      <td>(USAN)</td>\n",
              "    </tr>\n",
              "    <tr>\n",
              "      <th>3</th>\n",
              "      <td>Analgesics</td>\n",
              "      <td>Nonsteroidal Anti-inflammatory Drugs</td>\n",
              "      <td>diclofenac</td>\n",
              "      <td>DG00441</td>\n",
              "      <td>diclofenac sodium</td>\n",
              "      <td>D00904</td>\n",
              "      <td>(JP17/USP)</td>\n",
              "    </tr>\n",
              "    <tr>\n",
              "      <th>4</th>\n",
              "      <td>Analgesics</td>\n",
              "      <td>Nonsteroidal Anti-inflammatory Drugs</td>\n",
              "      <td>diclofenac</td>\n",
              "      <td>DG00441</td>\n",
              "      <td>diclofenac diethylamine</td>\n",
              "      <td>D07817</td>\n",
              "      <td>NaN</td>\n",
              "    </tr>\n",
              "    <tr>\n",
              "      <th>...</th>\n",
              "      <td>...</td>\n",
              "      <td>...</td>\n",
              "      <td>...</td>\n",
              "      <td>...</td>\n",
              "      <td>...</td>\n",
              "      <td>...</td>\n",
              "      <td>...</td>\n",
              "    </tr>\n",
              "    <tr>\n",
              "      <th>1798</th>\n",
              "      <td>Therapeutic Nutrients/Minerals/Electrolytes</td>\n",
              "      <td>Electrolyte/Mineral Replacement</td>\n",
              "      <td>sodium</td>\n",
              "      <td>NaN</td>\n",
              "      <td>sodium lactate</td>\n",
              "      <td>D02183</td>\n",
              "      <td>(JAN/USP)</td>\n",
              "    </tr>\n",
              "    <tr>\n",
              "      <th>1799</th>\n",
              "      <td>Therapeutic Nutrients/Minerals/Electrolytes</td>\n",
              "      <td>Electrolyte/Mineral Replacement</td>\n",
              "      <td>sodium</td>\n",
              "      <td>NaN</td>\n",
              "      <td>sodium ferric gluconate complex</td>\n",
              "      <td>D05859</td>\n",
              "      <td>(USAN)</td>\n",
              "    </tr>\n",
              "    <tr>\n",
              "      <th>1800</th>\n",
              "      <td>Therapeutic Nutrients/Minerals/Electrolytes</td>\n",
              "      <td>Electrolyte/Mineral Replacement</td>\n",
              "      <td>sodium</td>\n",
              "      <td>NaN</td>\n",
              "      <td>sodium phosphate, monobasic</td>\n",
              "      <td>D04400</td>\n",
              "      <td>(USP)</td>\n",
              "    </tr>\n",
              "    <tr>\n",
              "      <th>1801</th>\n",
              "      <td>Therapeutic Nutrients/Minerals/Electrolytes</td>\n",
              "      <td>Electrolyte/Mineral Replacement</td>\n",
              "      <td>sodium</td>\n",
              "      <td>NaN</td>\n",
              "      <td>sodium phosphate, dibasic</td>\n",
              "      <td>D05869</td>\n",
              "      <td>(USP)</td>\n",
              "    </tr>\n",
              "    <tr>\n",
              "      <th>1802</th>\n",
              "      <td>Therapeutic Nutrients/Minerals/Electrolytes</td>\n",
              "      <td>Electrolyte/Mineral Replacement</td>\n",
              "      <td>sodium</td>\n",
              "      <td>NaN</td>\n",
              "      <td>dibasic sodium phosphate hydrate</td>\n",
              "      <td>D06389</td>\n",
              "      <td>(JP17)</td>\n",
              "    </tr>\n",
              "  </tbody>\n",
              "</table>\n",
              "<p>1803 rows × 7 columns</p>\n",
              "</div>\n",
              "      <button class=\"colab-df-convert\" onclick=\"convertToInteractive('df-bd72cc32-6aa4-47d4-a2cf-1a6add8a96c4')\"\n",
              "              title=\"Convert this dataframe to an interactive table.\"\n",
              "              style=\"display:none;\">\n",
              "        \n",
              "  <svg xmlns=\"http://www.w3.org/2000/svg\" height=\"24px\"viewBox=\"0 0 24 24\"\n",
              "       width=\"24px\">\n",
              "    <path d=\"M0 0h24v24H0V0z\" fill=\"none\"/>\n",
              "    <path d=\"M18.56 5.44l.94 2.06.94-2.06 2.06-.94-2.06-.94-.94-2.06-.94 2.06-2.06.94zm-11 1L8.5 8.5l.94-2.06 2.06-.94-2.06-.94L8.5 2.5l-.94 2.06-2.06.94zm10 10l.94 2.06.94-2.06 2.06-.94-2.06-.94-.94-2.06-.94 2.06-2.06.94z\"/><path d=\"M17.41 7.96l-1.37-1.37c-.4-.4-.92-.59-1.43-.59-.52 0-1.04.2-1.43.59L10.3 9.45l-7.72 7.72c-.78.78-.78 2.05 0 2.83L4 21.41c.39.39.9.59 1.41.59.51 0 1.02-.2 1.41-.59l7.78-7.78 2.81-2.81c.8-.78.8-2.07 0-2.86zM5.41 20L4 18.59l7.72-7.72 1.47 1.35L5.41 20z\"/>\n",
              "  </svg>\n",
              "      </button>\n",
              "      \n",
              "  <style>\n",
              "    .colab-df-container {\n",
              "      display:flex;\n",
              "      flex-wrap:wrap;\n",
              "      gap: 12px;\n",
              "    }\n",
              "\n",
              "    .colab-df-convert {\n",
              "      background-color: #E8F0FE;\n",
              "      border: none;\n",
              "      border-radius: 50%;\n",
              "      cursor: pointer;\n",
              "      display: none;\n",
              "      fill: #1967D2;\n",
              "      height: 32px;\n",
              "      padding: 0 0 0 0;\n",
              "      width: 32px;\n",
              "    }\n",
              "\n",
              "    .colab-df-convert:hover {\n",
              "      background-color: #E2EBFA;\n",
              "      box-shadow: 0px 1px 2px rgba(60, 64, 67, 0.3), 0px 1px 3px 1px rgba(60, 64, 67, 0.15);\n",
              "      fill: #174EA6;\n",
              "    }\n",
              "\n",
              "    [theme=dark] .colab-df-convert {\n",
              "      background-color: #3B4455;\n",
              "      fill: #D2E3FC;\n",
              "    }\n",
              "\n",
              "    [theme=dark] .colab-df-convert:hover {\n",
              "      background-color: #434B5C;\n",
              "      box-shadow: 0px 1px 3px 1px rgba(0, 0, 0, 0.15);\n",
              "      filter: drop-shadow(0px 1px 2px rgba(0, 0, 0, 0.3));\n",
              "      fill: #FFFFFF;\n",
              "    }\n",
              "  </style>\n",
              "\n",
              "      <script>\n",
              "        const buttonEl =\n",
              "          document.querySelector('#df-bd72cc32-6aa4-47d4-a2cf-1a6add8a96c4 button.colab-df-convert');\n",
              "        buttonEl.style.display =\n",
              "          google.colab.kernel.accessAllowed ? 'block' : 'none';\n",
              "\n",
              "        async function convertToInteractive(key) {\n",
              "          const element = document.querySelector('#df-bd72cc32-6aa4-47d4-a2cf-1a6add8a96c4');\n",
              "          const dataTable =\n",
              "            await google.colab.kernel.invokeFunction('convertToInteractive',\n",
              "                                                     [key], {});\n",
              "          if (!dataTable) return;\n",
              "\n",
              "          const docLinkHtml = 'Like what you see? Visit the ' +\n",
              "            '<a target=\"_blank\" href=https://colab.research.google.com/notebooks/data_table.ipynb>data table notebook</a>'\n",
              "            + ' to learn more about interactive tables.';\n",
              "          element.innerHTML = '';\n",
              "          dataTable['output_type'] = 'display_data';\n",
              "          await google.colab.output.renderOutput(dataTable, element);\n",
              "          const docLink = document.createElement('div');\n",
              "          docLink.innerHTML = docLinkHtml;\n",
              "          element.appendChild(docLink);\n",
              "        }\n",
              "      </script>\n",
              "    </div>\n",
              "  </div>\n",
              "  "
            ]
          },
          "metadata": {},
          "execution_count": 288
        }
      ],
      "source": [
        "import os\n",
        "import pandas as pd\n",
        "import numpy as np\n",
        "import matplotlib.pyplot as plt\n",
        "import seaborn as sns\n",
        "\n",
        "df = pd.read_csv('usp_drug_classification (1).csv')\n",
        "df\n"
      ]
    },
    {
      "cell_type": "code",
      "source": [],
      "metadata": {
        "id": "9rHOFmKE_GNQ"
      },
      "execution_count": null,
      "outputs": []
    },
    {
      "cell_type": "code",
      "source": [
        "df.describe()"
      ],
      "metadata": {
        "colab": {
          "base_uri": "https://localhost:8080/",
          "height": 175
        },
        "id": "2mT2D0bj7XH9",
        "outputId": "d0425070-4e96-4dd7-a834-12505b099e9f"
      },
      "execution_count": null,
      "outputs": [
        {
          "output_type": "execute_result",
          "data": {
            "text/plain": [
              "          usp_category                             usp_class       usp_drug  \\\n",
              "count             1803                                  1803           1803   \n",
              "unique              33                                   146            804   \n",
              "top     Antibacterials  Nonsteroidal Anti-inflammatory Drugs  dexamethasone   \n",
              "freq               196                                    92             34   \n",
              "\n",
              "       kegg_id_drug       drug_example kegg_id_drug_example nomenclature  \n",
              "count          1343               1803                 1803         1673  \n",
              "unique          432               1497                 1525           31  \n",
              "top         DG00011  divalproex sodium               D00304        (INN)  \n",
              "freq             34                  6                    6          231  "
            ],
            "text/html": [
              "\n",
              "  <div id=\"df-bede6422-5068-4ff3-b913-84f4fbb4cff3\">\n",
              "    <div class=\"colab-df-container\">\n",
              "      <div>\n",
              "<style scoped>\n",
              "    .dataframe tbody tr th:only-of-type {\n",
              "        vertical-align: middle;\n",
              "    }\n",
              "\n",
              "    .dataframe tbody tr th {\n",
              "        vertical-align: top;\n",
              "    }\n",
              "\n",
              "    .dataframe thead th {\n",
              "        text-align: right;\n",
              "    }\n",
              "</style>\n",
              "<table border=\"1\" class=\"dataframe\">\n",
              "  <thead>\n",
              "    <tr style=\"text-align: right;\">\n",
              "      <th></th>\n",
              "      <th>usp_category</th>\n",
              "      <th>usp_class</th>\n",
              "      <th>usp_drug</th>\n",
              "      <th>kegg_id_drug</th>\n",
              "      <th>drug_example</th>\n",
              "      <th>kegg_id_drug_example</th>\n",
              "      <th>nomenclature</th>\n",
              "    </tr>\n",
              "  </thead>\n",
              "  <tbody>\n",
              "    <tr>\n",
              "      <th>count</th>\n",
              "      <td>1803</td>\n",
              "      <td>1803</td>\n",
              "      <td>1803</td>\n",
              "      <td>1343</td>\n",
              "      <td>1803</td>\n",
              "      <td>1803</td>\n",
              "      <td>1673</td>\n",
              "    </tr>\n",
              "    <tr>\n",
              "      <th>unique</th>\n",
              "      <td>33</td>\n",
              "      <td>146</td>\n",
              "      <td>804</td>\n",
              "      <td>432</td>\n",
              "      <td>1497</td>\n",
              "      <td>1525</td>\n",
              "      <td>31</td>\n",
              "    </tr>\n",
              "    <tr>\n",
              "      <th>top</th>\n",
              "      <td>Antibacterials</td>\n",
              "      <td>Nonsteroidal Anti-inflammatory Drugs</td>\n",
              "      <td>dexamethasone</td>\n",
              "      <td>DG00011</td>\n",
              "      <td>divalproex sodium</td>\n",
              "      <td>D00304</td>\n",
              "      <td>(INN)</td>\n",
              "    </tr>\n",
              "    <tr>\n",
              "      <th>freq</th>\n",
              "      <td>196</td>\n",
              "      <td>92</td>\n",
              "      <td>34</td>\n",
              "      <td>34</td>\n",
              "      <td>6</td>\n",
              "      <td>6</td>\n",
              "      <td>231</td>\n",
              "    </tr>\n",
              "  </tbody>\n",
              "</table>\n",
              "</div>\n",
              "      <button class=\"colab-df-convert\" onclick=\"convertToInteractive('df-bede6422-5068-4ff3-b913-84f4fbb4cff3')\"\n",
              "              title=\"Convert this dataframe to an interactive table.\"\n",
              "              style=\"display:none;\">\n",
              "        \n",
              "  <svg xmlns=\"http://www.w3.org/2000/svg\" height=\"24px\"viewBox=\"0 0 24 24\"\n",
              "       width=\"24px\">\n",
              "    <path d=\"M0 0h24v24H0V0z\" fill=\"none\"/>\n",
              "    <path d=\"M18.56 5.44l.94 2.06.94-2.06 2.06-.94-2.06-.94-.94-2.06-.94 2.06-2.06.94zm-11 1L8.5 8.5l.94-2.06 2.06-.94-2.06-.94L8.5 2.5l-.94 2.06-2.06.94zm10 10l.94 2.06.94-2.06 2.06-.94-2.06-.94-.94-2.06-.94 2.06-2.06.94z\"/><path d=\"M17.41 7.96l-1.37-1.37c-.4-.4-.92-.59-1.43-.59-.52 0-1.04.2-1.43.59L10.3 9.45l-7.72 7.72c-.78.78-.78 2.05 0 2.83L4 21.41c.39.39.9.59 1.41.59.51 0 1.02-.2 1.41-.59l7.78-7.78 2.81-2.81c.8-.78.8-2.07 0-2.86zM5.41 20L4 18.59l7.72-7.72 1.47 1.35L5.41 20z\"/>\n",
              "  </svg>\n",
              "      </button>\n",
              "      \n",
              "  <style>\n",
              "    .colab-df-container {\n",
              "      display:flex;\n",
              "      flex-wrap:wrap;\n",
              "      gap: 12px;\n",
              "    }\n",
              "\n",
              "    .colab-df-convert {\n",
              "      background-color: #E8F0FE;\n",
              "      border: none;\n",
              "      border-radius: 50%;\n",
              "      cursor: pointer;\n",
              "      display: none;\n",
              "      fill: #1967D2;\n",
              "      height: 32px;\n",
              "      padding: 0 0 0 0;\n",
              "      width: 32px;\n",
              "    }\n",
              "\n",
              "    .colab-df-convert:hover {\n",
              "      background-color: #E2EBFA;\n",
              "      box-shadow: 0px 1px 2px rgba(60, 64, 67, 0.3), 0px 1px 3px 1px rgba(60, 64, 67, 0.15);\n",
              "      fill: #174EA6;\n",
              "    }\n",
              "\n",
              "    [theme=dark] .colab-df-convert {\n",
              "      background-color: #3B4455;\n",
              "      fill: #D2E3FC;\n",
              "    }\n",
              "\n",
              "    [theme=dark] .colab-df-convert:hover {\n",
              "      background-color: #434B5C;\n",
              "      box-shadow: 0px 1px 3px 1px rgba(0, 0, 0, 0.15);\n",
              "      filter: drop-shadow(0px 1px 2px rgba(0, 0, 0, 0.3));\n",
              "      fill: #FFFFFF;\n",
              "    }\n",
              "  </style>\n",
              "\n",
              "      <script>\n",
              "        const buttonEl =\n",
              "          document.querySelector('#df-bede6422-5068-4ff3-b913-84f4fbb4cff3 button.colab-df-convert');\n",
              "        buttonEl.style.display =\n",
              "          google.colab.kernel.accessAllowed ? 'block' : 'none';\n",
              "\n",
              "        async function convertToInteractive(key) {\n",
              "          const element = document.querySelector('#df-bede6422-5068-4ff3-b913-84f4fbb4cff3');\n",
              "          const dataTable =\n",
              "            await google.colab.kernel.invokeFunction('convertToInteractive',\n",
              "                                                     [key], {});\n",
              "          if (!dataTable) return;\n",
              "\n",
              "          const docLinkHtml = 'Like what you see? Visit the ' +\n",
              "            '<a target=\"_blank\" href=https://colab.research.google.com/notebooks/data_table.ipynb>data table notebook</a>'\n",
              "            + ' to learn more about interactive tables.';\n",
              "          element.innerHTML = '';\n",
              "          dataTable['output_type'] = 'display_data';\n",
              "          await google.colab.output.renderOutput(dataTable, element);\n",
              "          const docLink = document.createElement('div');\n",
              "          docLink.innerHTML = docLinkHtml;\n",
              "          element.appendChild(docLink);\n",
              "        }\n",
              "      </script>\n",
              "    </div>\n",
              "  </div>\n",
              "  "
            ]
          },
          "metadata": {},
          "execution_count": 289
        }
      ]
    },
    {
      "cell_type": "code",
      "source": [
        "df.dtypes\n",
        "\n"
      ],
      "metadata": {
        "colab": {
          "base_uri": "https://localhost:8080/"
        },
        "id": "BRhlRHbk7ZVQ",
        "outputId": "7a479c71-b0d1-46f9-f53c-6e2625f0beb3"
      },
      "execution_count": null,
      "outputs": [
        {
          "output_type": "execute_result",
          "data": {
            "text/plain": [
              "usp_category            object\n",
              "usp_class               object\n",
              "usp_drug                object\n",
              "kegg_id_drug            object\n",
              "drug_example            object\n",
              "kegg_id_drug_example    object\n",
              "nomenclature            object\n",
              "dtype: object"
            ]
          },
          "metadata": {},
          "execution_count": 290
        }
      ]
    },
    {
      "cell_type": "code",
      "source": [
        "df.shape\n"
      ],
      "metadata": {
        "colab": {
          "base_uri": "https://localhost:8080/"
        },
        "id": "Cm5F2JqG7bBN",
        "outputId": "031997b1-b47c-4be5-b4da-663bd1e500e2"
      },
      "execution_count": null,
      "outputs": [
        {
          "output_type": "execute_result",
          "data": {
            "text/plain": [
              "(1803, 7)"
            ]
          },
          "metadata": {},
          "execution_count": 291
        }
      ]
    },
    {
      "cell_type": "code",
      "source": [
        "df.isna().sum()"
      ],
      "metadata": {
        "colab": {
          "base_uri": "https://localhost:8080/"
        },
        "id": "tEVmkLz8HQ4w",
        "outputId": "a6c03ae6-c642-46fd-ee15-318e047e8276"
      },
      "execution_count": null,
      "outputs": [
        {
          "output_type": "execute_result",
          "data": {
            "text/plain": [
              "usp_category              0\n",
              "usp_class                 0\n",
              "usp_drug                  0\n",
              "kegg_id_drug            460\n",
              "drug_example              0\n",
              "kegg_id_drug_example      0\n",
              "nomenclature            130\n",
              "dtype: int64"
            ]
          },
          "metadata": {},
          "execution_count": 292
        }
      ]
    },
    {
      "cell_type": "code",
      "source": [
        "df.dropna(axis = 0 , how = 'any',inplace=True)"
      ],
      "metadata": {
        "id": "4O6E9H5h7eJU"
      },
      "execution_count": null,
      "outputs": []
    },
    {
      "cell_type": "code",
      "source": [
        "df.columns"
      ],
      "metadata": {
        "colab": {
          "base_uri": "https://localhost:8080/"
        },
        "id": "KimsLIqv7h6F",
        "outputId": "43ec21b4-7035-49ba-c369-7e0cfbaf11cb"
      },
      "execution_count": null,
      "outputs": [
        {
          "output_type": "execute_result",
          "data": {
            "text/plain": [
              "Index(['usp_category', 'usp_class', 'usp_drug', 'kegg_id_drug', 'drug_example',\n",
              "       'kegg_id_drug_example', 'nomenclature'],\n",
              "      dtype='object')"
            ]
          },
          "metadata": {},
          "execution_count": 294
        }
      ]
    },
    {
      "cell_type": "code",
      "source": [
        "df['usp_category'].unique()"
      ],
      "metadata": {
        "colab": {
          "base_uri": "https://localhost:8080/"
        },
        "id": "4olzGNSx7rAm",
        "outputId": "54e14623-0dac-4ad7-e2e2-32d85bed4871"
      },
      "execution_count": null,
      "outputs": [
        {
          "output_type": "execute_result",
          "data": {
            "text/plain": [
              "array(['Analgesics', 'Anesthetics',\n",
              "       'Anti-Addiction/Substance Abuse Treatment Agents',\n",
              "       'Antibacterials', 'Anticonvulsants', 'Antidementia Agents',\n",
              "       'Antidepressants', 'Antiemetics', 'Anti-inflammatory Agents',\n",
              "       'Antimigraine Agents', 'Antimyasthenic Agents',\n",
              "       'Antimycobacterials', 'Antineoplastics', 'Antiparasitics',\n",
              "       'Antiparkinson Agents', 'Antipsychotics', 'Antivirals',\n",
              "       'Anxiolytics', 'Bipolar Agents', 'Blood Glucose Regulators',\n",
              "       'Blood Products/Modifiers/Volume Expanders',\n",
              "       'Cardiovascular Agents', 'Central Nervous System Agents',\n",
              "       'Gastrointestinal Agents', 'Genitourinary Agents',\n",
              "       'Hormonal Agents, Stimulant/Replacement/Modifying (Sex Hormones/Modifiers)',\n",
              "       'Immunological Agents', 'Inflammatory Bowel Disease Agents',\n",
              "       'Ophthalmic Agents', 'Respiratory Tract/Pulmonary Agents',\n",
              "       'Sleep Disorder Agents',\n",
              "       'Therapeutic Nutrients/Minerals/Electrolytes'], dtype=object)"
            ]
          },
          "metadata": {},
          "execution_count": 295
        }
      ]
    },
    {
      "cell_type": "code",
      "source": [
        "df.shape"
      ],
      "metadata": {
        "colab": {
          "base_uri": "https://localhost:8080/"
        },
        "id": "rKnfwqFq8EQO",
        "outputId": "a337b96f-45c5-41ce-ef9e-c9740c6f4ca1"
      },
      "execution_count": null,
      "outputs": [
        {
          "output_type": "execute_result",
          "data": {
            "text/plain": [
              "(1238, 7)"
            ]
          },
          "metadata": {},
          "execution_count": 296
        }
      ]
    },
    {
      "cell_type": "code",
      "source": [
        "df.isna().sum()"
      ],
      "metadata": {
        "colab": {
          "base_uri": "https://localhost:8080/"
        },
        "id": "0leK_mQ9Id43",
        "outputId": "45486f3e-35d4-4c81-e108-099027bf420a"
      },
      "execution_count": null,
      "outputs": [
        {
          "output_type": "execute_result",
          "data": {
            "text/plain": [
              "usp_category            0\n",
              "usp_class               0\n",
              "usp_drug                0\n",
              "kegg_id_drug            0\n",
              "drug_example            0\n",
              "kegg_id_drug_example    0\n",
              "nomenclature            0\n",
              "dtype: int64"
            ]
          },
          "metadata": {},
          "execution_count": 297
        }
      ]
    },
    {
      "cell_type": "code",
      "source": [
        "df.columns"
      ],
      "metadata": {
        "colab": {
          "base_uri": "https://localhost:8080/"
        },
        "id": "5-_K9nu7IgZC",
        "outputId": "805715fe-f692-4101-d003-5225d4bca011"
      },
      "execution_count": null,
      "outputs": [
        {
          "output_type": "execute_result",
          "data": {
            "text/plain": [
              "Index(['usp_category', 'usp_class', 'usp_drug', 'kegg_id_drug', 'drug_example',\n",
              "       'kegg_id_drug_example', 'nomenclature'],\n",
              "      dtype='object')"
            ]
          },
          "metadata": {},
          "execution_count": 298
        }
      ]
    },
    {
      "cell_type": "code",
      "source": [
        "df.shape\n"
      ],
      "metadata": {
        "colab": {
          "base_uri": "https://localhost:8080/"
        },
        "id": "4IXtxODvIqzp",
        "outputId": "c88ec2d7-2c54-4d30-b591-1e56703a6153"
      },
      "execution_count": null,
      "outputs": [
        {
          "output_type": "execute_result",
          "data": {
            "text/plain": [
              "(1238, 7)"
            ]
          },
          "metadata": {},
          "execution_count": 299
        }
      ]
    },
    {
      "cell_type": "code",
      "source": [],
      "metadata": {
        "id": "nwhJLm20qn2n"
      },
      "execution_count": null,
      "outputs": []
    },
    {
      "cell_type": "code",
      "source": [
        "!pip install imbalanced-learn\n"
      ],
      "metadata": {
        "colab": {
          "base_uri": "https://localhost:8080/"
        },
        "id": "6YAo-5rMPuqf",
        "outputId": "35083df8-76d7-4204-b78a-b6ada2df7e0c"
      },
      "execution_count": null,
      "outputs": [
        {
          "output_type": "stream",
          "name": "stdout",
          "text": [
            "Looking in indexes: https://pypi.org/simple, https://us-python.pkg.dev/colab-wheels/public/simple/\n",
            "Requirement already satisfied: imbalanced-learn in /usr/local/lib/python3.10/dist-packages (0.10.1)\n",
            "Requirement already satisfied: numpy>=1.17.3 in /usr/local/lib/python3.10/dist-packages (from imbalanced-learn) (1.22.4)\n",
            "Requirement already satisfied: scipy>=1.3.2 in /usr/local/lib/python3.10/dist-packages (from imbalanced-learn) (1.10.1)\n",
            "Requirement already satisfied: scikit-learn>=1.0.2 in /usr/local/lib/python3.10/dist-packages (from imbalanced-learn) (1.2.2)\n",
            "Requirement already satisfied: joblib>=1.1.1 in /usr/local/lib/python3.10/dist-packages (from imbalanced-learn) (1.2.0)\n",
            "Requirement already satisfied: threadpoolctl>=2.0.0 in /usr/local/lib/python3.10/dist-packages (from imbalanced-learn) (3.1.0)\n"
          ]
        }
      ]
    },
    {
      "cell_type": "code",
      "source": [
        "from imblearn.over_sampling import SMOTE\n"
      ],
      "metadata": {
        "id": "LEqkOIhePvxy"
      },
      "execution_count": null,
      "outputs": []
    },
    {
      "cell_type": "code",
      "source": [],
      "metadata": {
        "id": "GGRIPAEnPynx"
      },
      "execution_count": null,
      "outputs": []
    },
    {
      "cell_type": "code",
      "source": [
        "from sklearn.preprocessing import LabelEncoder,MinMaxScaler\n",
        "le=LabelEncoder()\n",
        "scaler=MinMaxScaler()\n",
        "\n",
        "categ=['usp_category','usp_class', 'usp_drug', 'drug_example', 'kegg_id_drug',\n",
        "       'kegg_id_drug_example','nomenclature']\n",
        "df[categ] = df[categ].apply(le.fit_transform)\n",
        "\n",
        "print(df[categ])"
      ],
      "metadata": {
        "colab": {
          "base_uri": "https://localhost:8080/"
        },
        "id": "B2m84jlX-fbe",
        "outputId": "ca83c4f9-b0f3-46fc-8ec7-5c2bbabda086"
      },
      "execution_count": null,
      "outputs": [
        {
          "output_type": "stream",
          "name": "stdout",
          "text": [
            "      usp_category  usp_class  usp_drug  drug_example  kegg_id_drug  \\\n",
            "1                0         90       116           261           139   \n",
            "2                0         90       116           262           139   \n",
            "3                0         90       116           263           139   \n",
            "9                0         90       159           374           272   \n",
            "10               0         90       159           375           272   \n",
            "...            ...        ...       ...           ...           ...   \n",
            "1734            30         71       432           997           326   \n",
            "1735            30         71       432           998           326   \n",
            "1737            30        115       130           297           334   \n",
            "1738            30        115       130           298           334   \n",
            "1744            31         65       307           709           275   \n",
            "\n",
            "      kegg_id_drug_example  nomenclature  \n",
            "1                      795            17  \n",
            "2                      277            16  \n",
            "3                      278            13  \n",
            "9                      498            17  \n",
            "10                     305             7  \n",
            "...                    ...           ...  \n",
            "1734                   950             1  \n",
            "1735                   201            11  \n",
            "1737                   803             1  \n",
            "1738                   235            20  \n",
            "1744                   123             8  \n",
            "\n",
            "[1238 rows x 7 columns]\n"
          ]
        }
      ]
    },
    {
      "cell_type": "code",
      "source": [
        "df"
      ],
      "metadata": {
        "colab": {
          "base_uri": "https://localhost:8080/",
          "height": 423
        },
        "id": "aQuZJ56i-h_T",
        "outputId": "48cf32c5-cd9c-4e3d-a0dc-9888828e1dcd"
      },
      "execution_count": null,
      "outputs": [
        {
          "output_type": "execute_result",
          "data": {
            "text/plain": [
              "      usp_category  usp_class  usp_drug  kegg_id_drug  drug_example  \\\n",
              "1                0         90       116           139           261   \n",
              "2                0         90       116           139           262   \n",
              "3                0         90       116           139           263   \n",
              "9                0         90       159           272           374   \n",
              "10               0         90       159           272           375   \n",
              "...            ...        ...       ...           ...           ...   \n",
              "1734            30         71       432           326           997   \n",
              "1735            30         71       432           326           998   \n",
              "1737            30        115       130           334           297   \n",
              "1738            30        115       130           334           298   \n",
              "1744            31         65       307           275           709   \n",
              "\n",
              "      kegg_id_drug_example  nomenclature  \n",
              "1                      795            17  \n",
              "2                      277            16  \n",
              "3                      278            13  \n",
              "9                      498            17  \n",
              "10                     305             7  \n",
              "...                    ...           ...  \n",
              "1734                   950             1  \n",
              "1735                   201            11  \n",
              "1737                   803             1  \n",
              "1738                   235            20  \n",
              "1744                   123             8  \n",
              "\n",
              "[1238 rows x 7 columns]"
            ],
            "text/html": [
              "\n",
              "  <div id=\"df-615d24a7-2851-42d9-8068-fd8664bcf871\">\n",
              "    <div class=\"colab-df-container\">\n",
              "      <div>\n",
              "<style scoped>\n",
              "    .dataframe tbody tr th:only-of-type {\n",
              "        vertical-align: middle;\n",
              "    }\n",
              "\n",
              "    .dataframe tbody tr th {\n",
              "        vertical-align: top;\n",
              "    }\n",
              "\n",
              "    .dataframe thead th {\n",
              "        text-align: right;\n",
              "    }\n",
              "</style>\n",
              "<table border=\"1\" class=\"dataframe\">\n",
              "  <thead>\n",
              "    <tr style=\"text-align: right;\">\n",
              "      <th></th>\n",
              "      <th>usp_category</th>\n",
              "      <th>usp_class</th>\n",
              "      <th>usp_drug</th>\n",
              "      <th>kegg_id_drug</th>\n",
              "      <th>drug_example</th>\n",
              "      <th>kegg_id_drug_example</th>\n",
              "      <th>nomenclature</th>\n",
              "    </tr>\n",
              "  </thead>\n",
              "  <tbody>\n",
              "    <tr>\n",
              "      <th>1</th>\n",
              "      <td>0</td>\n",
              "      <td>90</td>\n",
              "      <td>116</td>\n",
              "      <td>139</td>\n",
              "      <td>261</td>\n",
              "      <td>795</td>\n",
              "      <td>17</td>\n",
              "    </tr>\n",
              "    <tr>\n",
              "      <th>2</th>\n",
              "      <td>0</td>\n",
              "      <td>90</td>\n",
              "      <td>116</td>\n",
              "      <td>139</td>\n",
              "      <td>262</td>\n",
              "      <td>277</td>\n",
              "      <td>16</td>\n",
              "    </tr>\n",
              "    <tr>\n",
              "      <th>3</th>\n",
              "      <td>0</td>\n",
              "      <td>90</td>\n",
              "      <td>116</td>\n",
              "      <td>139</td>\n",
              "      <td>263</td>\n",
              "      <td>278</td>\n",
              "      <td>13</td>\n",
              "    </tr>\n",
              "    <tr>\n",
              "      <th>9</th>\n",
              "      <td>0</td>\n",
              "      <td>90</td>\n",
              "      <td>159</td>\n",
              "      <td>272</td>\n",
              "      <td>374</td>\n",
              "      <td>498</td>\n",
              "      <td>17</td>\n",
              "    </tr>\n",
              "    <tr>\n",
              "      <th>10</th>\n",
              "      <td>0</td>\n",
              "      <td>90</td>\n",
              "      <td>159</td>\n",
              "      <td>272</td>\n",
              "      <td>375</td>\n",
              "      <td>305</td>\n",
              "      <td>7</td>\n",
              "    </tr>\n",
              "    <tr>\n",
              "      <th>...</th>\n",
              "      <td>...</td>\n",
              "      <td>...</td>\n",
              "      <td>...</td>\n",
              "      <td>...</td>\n",
              "      <td>...</td>\n",
              "      <td>...</td>\n",
              "      <td>...</td>\n",
              "    </tr>\n",
              "    <tr>\n",
              "      <th>1734</th>\n",
              "      <td>30</td>\n",
              "      <td>71</td>\n",
              "      <td>432</td>\n",
              "      <td>326</td>\n",
              "      <td>997</td>\n",
              "      <td>950</td>\n",
              "      <td>1</td>\n",
              "    </tr>\n",
              "    <tr>\n",
              "      <th>1735</th>\n",
              "      <td>30</td>\n",
              "      <td>71</td>\n",
              "      <td>432</td>\n",
              "      <td>326</td>\n",
              "      <td>998</td>\n",
              "      <td>201</td>\n",
              "      <td>11</td>\n",
              "    </tr>\n",
              "    <tr>\n",
              "      <th>1737</th>\n",
              "      <td>30</td>\n",
              "      <td>115</td>\n",
              "      <td>130</td>\n",
              "      <td>334</td>\n",
              "      <td>297</td>\n",
              "      <td>803</td>\n",
              "      <td>1</td>\n",
              "    </tr>\n",
              "    <tr>\n",
              "      <th>1738</th>\n",
              "      <td>30</td>\n",
              "      <td>115</td>\n",
              "      <td>130</td>\n",
              "      <td>334</td>\n",
              "      <td>298</td>\n",
              "      <td>235</td>\n",
              "      <td>20</td>\n",
              "    </tr>\n",
              "    <tr>\n",
              "      <th>1744</th>\n",
              "      <td>31</td>\n",
              "      <td>65</td>\n",
              "      <td>307</td>\n",
              "      <td>275</td>\n",
              "      <td>709</td>\n",
              "      <td>123</td>\n",
              "      <td>8</td>\n",
              "    </tr>\n",
              "  </tbody>\n",
              "</table>\n",
              "<p>1238 rows × 7 columns</p>\n",
              "</div>\n",
              "      <button class=\"colab-df-convert\" onclick=\"convertToInteractive('df-615d24a7-2851-42d9-8068-fd8664bcf871')\"\n",
              "              title=\"Convert this dataframe to an interactive table.\"\n",
              "              style=\"display:none;\">\n",
              "        \n",
              "  <svg xmlns=\"http://www.w3.org/2000/svg\" height=\"24px\"viewBox=\"0 0 24 24\"\n",
              "       width=\"24px\">\n",
              "    <path d=\"M0 0h24v24H0V0z\" fill=\"none\"/>\n",
              "    <path d=\"M18.56 5.44l.94 2.06.94-2.06 2.06-.94-2.06-.94-.94-2.06-.94 2.06-2.06.94zm-11 1L8.5 8.5l.94-2.06 2.06-.94-2.06-.94L8.5 2.5l-.94 2.06-2.06.94zm10 10l.94 2.06.94-2.06 2.06-.94-2.06-.94-.94-2.06-.94 2.06-2.06.94z\"/><path d=\"M17.41 7.96l-1.37-1.37c-.4-.4-.92-.59-1.43-.59-.52 0-1.04.2-1.43.59L10.3 9.45l-7.72 7.72c-.78.78-.78 2.05 0 2.83L4 21.41c.39.39.9.59 1.41.59.51 0 1.02-.2 1.41-.59l7.78-7.78 2.81-2.81c.8-.78.8-2.07 0-2.86zM5.41 20L4 18.59l7.72-7.72 1.47 1.35L5.41 20z\"/>\n",
              "  </svg>\n",
              "      </button>\n",
              "      \n",
              "  <style>\n",
              "    .colab-df-container {\n",
              "      display:flex;\n",
              "      flex-wrap:wrap;\n",
              "      gap: 12px;\n",
              "    }\n",
              "\n",
              "    .colab-df-convert {\n",
              "      background-color: #E8F0FE;\n",
              "      border: none;\n",
              "      border-radius: 50%;\n",
              "      cursor: pointer;\n",
              "      display: none;\n",
              "      fill: #1967D2;\n",
              "      height: 32px;\n",
              "      padding: 0 0 0 0;\n",
              "      width: 32px;\n",
              "    }\n",
              "\n",
              "    .colab-df-convert:hover {\n",
              "      background-color: #E2EBFA;\n",
              "      box-shadow: 0px 1px 2px rgba(60, 64, 67, 0.3), 0px 1px 3px 1px rgba(60, 64, 67, 0.15);\n",
              "      fill: #174EA6;\n",
              "    }\n",
              "\n",
              "    [theme=dark] .colab-df-convert {\n",
              "      background-color: #3B4455;\n",
              "      fill: #D2E3FC;\n",
              "    }\n",
              "\n",
              "    [theme=dark] .colab-df-convert:hover {\n",
              "      background-color: #434B5C;\n",
              "      box-shadow: 0px 1px 3px 1px rgba(0, 0, 0, 0.15);\n",
              "      filter: drop-shadow(0px 1px 2px rgba(0, 0, 0, 0.3));\n",
              "      fill: #FFFFFF;\n",
              "    }\n",
              "  </style>\n",
              "\n",
              "      <script>\n",
              "        const buttonEl =\n",
              "          document.querySelector('#df-615d24a7-2851-42d9-8068-fd8664bcf871 button.colab-df-convert');\n",
              "        buttonEl.style.display =\n",
              "          google.colab.kernel.accessAllowed ? 'block' : 'none';\n",
              "\n",
              "        async function convertToInteractive(key) {\n",
              "          const element = document.querySelector('#df-615d24a7-2851-42d9-8068-fd8664bcf871');\n",
              "          const dataTable =\n",
              "            await google.colab.kernel.invokeFunction('convertToInteractive',\n",
              "                                                     [key], {});\n",
              "          if (!dataTable) return;\n",
              "\n",
              "          const docLinkHtml = 'Like what you see? Visit the ' +\n",
              "            '<a target=\"_blank\" href=https://colab.research.google.com/notebooks/data_table.ipynb>data table notebook</a>'\n",
              "            + ' to learn more about interactive tables.';\n",
              "          element.innerHTML = '';\n",
              "          dataTable['output_type'] = 'display_data';\n",
              "          await google.colab.output.renderOutput(dataTable, element);\n",
              "          const docLink = document.createElement('div');\n",
              "          docLink.innerHTML = docLinkHtml;\n",
              "          element.appendChild(docLink);\n",
              "        }\n",
              "      </script>\n",
              "    </div>\n",
              "  </div>\n",
              "  "
            ]
          },
          "metadata": {},
          "execution_count": 303
        }
      ]
    },
    {
      "cell_type": "code",
      "source": [
        "df.describe()"
      ],
      "metadata": {
        "colab": {
          "base_uri": "https://localhost:8080/",
          "height": 300
        },
        "id": "f-tmgj5ZMB19",
        "outputId": "94fcad2e-27bb-40e4-c219-cf91798de56d"
      },
      "execution_count": null,
      "outputs": [
        {
          "output_type": "execute_result",
          "data": {
            "text/plain": [
              "       usp_category    usp_class     usp_drug  kegg_id_drug  drug_example  \\\n",
              "count   1238.000000  1238.000000  1238.000000   1238.000000   1238.000000   \n",
              "mean      15.214055    60.200323   217.713247    207.498384    501.920840   \n",
              "std        9.513819    35.367116   123.277943    126.719212    288.195566   \n",
              "min        0.000000     0.000000     0.000000      0.000000      0.000000   \n",
              "25%        5.250000    29.000000   114.000000     98.250000    256.000000   \n",
              "50%       16.000000    57.500000   210.500000    209.000000    496.000000   \n",
              "75%       23.000000    92.000000   327.000000    316.000000    756.750000   \n",
              "max       31.000000   123.000000   432.000000    431.000000    998.000000   \n",
              "\n",
              "       kegg_id_drug_example  nomenclature  \n",
              "count           1238.000000   1238.000000  \n",
              "mean             502.779483     10.701939  \n",
              "std              296.874452      6.947023  \n",
              "min                0.000000      0.000000  \n",
              "25%              243.250000      3.000000  \n",
              "50%              497.500000     13.000000  \n",
              "75%              759.750000     16.000000  \n",
              "max             1023.000000     22.000000  "
            ],
            "text/html": [
              "\n",
              "  <div id=\"df-fc87e231-477b-4f00-827e-d9b8bc407fa4\">\n",
              "    <div class=\"colab-df-container\">\n",
              "      <div>\n",
              "<style scoped>\n",
              "    .dataframe tbody tr th:only-of-type {\n",
              "        vertical-align: middle;\n",
              "    }\n",
              "\n",
              "    .dataframe tbody tr th {\n",
              "        vertical-align: top;\n",
              "    }\n",
              "\n",
              "    .dataframe thead th {\n",
              "        text-align: right;\n",
              "    }\n",
              "</style>\n",
              "<table border=\"1\" class=\"dataframe\">\n",
              "  <thead>\n",
              "    <tr style=\"text-align: right;\">\n",
              "      <th></th>\n",
              "      <th>usp_category</th>\n",
              "      <th>usp_class</th>\n",
              "      <th>usp_drug</th>\n",
              "      <th>kegg_id_drug</th>\n",
              "      <th>drug_example</th>\n",
              "      <th>kegg_id_drug_example</th>\n",
              "      <th>nomenclature</th>\n",
              "    </tr>\n",
              "  </thead>\n",
              "  <tbody>\n",
              "    <tr>\n",
              "      <th>count</th>\n",
              "      <td>1238.000000</td>\n",
              "      <td>1238.000000</td>\n",
              "      <td>1238.000000</td>\n",
              "      <td>1238.000000</td>\n",
              "      <td>1238.000000</td>\n",
              "      <td>1238.000000</td>\n",
              "      <td>1238.000000</td>\n",
              "    </tr>\n",
              "    <tr>\n",
              "      <th>mean</th>\n",
              "      <td>15.214055</td>\n",
              "      <td>60.200323</td>\n",
              "      <td>217.713247</td>\n",
              "      <td>207.498384</td>\n",
              "      <td>501.920840</td>\n",
              "      <td>502.779483</td>\n",
              "      <td>10.701939</td>\n",
              "    </tr>\n",
              "    <tr>\n",
              "      <th>std</th>\n",
              "      <td>9.513819</td>\n",
              "      <td>35.367116</td>\n",
              "      <td>123.277943</td>\n",
              "      <td>126.719212</td>\n",
              "      <td>288.195566</td>\n",
              "      <td>296.874452</td>\n",
              "      <td>6.947023</td>\n",
              "    </tr>\n",
              "    <tr>\n",
              "      <th>min</th>\n",
              "      <td>0.000000</td>\n",
              "      <td>0.000000</td>\n",
              "      <td>0.000000</td>\n",
              "      <td>0.000000</td>\n",
              "      <td>0.000000</td>\n",
              "      <td>0.000000</td>\n",
              "      <td>0.000000</td>\n",
              "    </tr>\n",
              "    <tr>\n",
              "      <th>25%</th>\n",
              "      <td>5.250000</td>\n",
              "      <td>29.000000</td>\n",
              "      <td>114.000000</td>\n",
              "      <td>98.250000</td>\n",
              "      <td>256.000000</td>\n",
              "      <td>243.250000</td>\n",
              "      <td>3.000000</td>\n",
              "    </tr>\n",
              "    <tr>\n",
              "      <th>50%</th>\n",
              "      <td>16.000000</td>\n",
              "      <td>57.500000</td>\n",
              "      <td>210.500000</td>\n",
              "      <td>209.000000</td>\n",
              "      <td>496.000000</td>\n",
              "      <td>497.500000</td>\n",
              "      <td>13.000000</td>\n",
              "    </tr>\n",
              "    <tr>\n",
              "      <th>75%</th>\n",
              "      <td>23.000000</td>\n",
              "      <td>92.000000</td>\n",
              "      <td>327.000000</td>\n",
              "      <td>316.000000</td>\n",
              "      <td>756.750000</td>\n",
              "      <td>759.750000</td>\n",
              "      <td>16.000000</td>\n",
              "    </tr>\n",
              "    <tr>\n",
              "      <th>max</th>\n",
              "      <td>31.000000</td>\n",
              "      <td>123.000000</td>\n",
              "      <td>432.000000</td>\n",
              "      <td>431.000000</td>\n",
              "      <td>998.000000</td>\n",
              "      <td>1023.000000</td>\n",
              "      <td>22.000000</td>\n",
              "    </tr>\n",
              "  </tbody>\n",
              "</table>\n",
              "</div>\n",
              "      <button class=\"colab-df-convert\" onclick=\"convertToInteractive('df-fc87e231-477b-4f00-827e-d9b8bc407fa4')\"\n",
              "              title=\"Convert this dataframe to an interactive table.\"\n",
              "              style=\"display:none;\">\n",
              "        \n",
              "  <svg xmlns=\"http://www.w3.org/2000/svg\" height=\"24px\"viewBox=\"0 0 24 24\"\n",
              "       width=\"24px\">\n",
              "    <path d=\"M0 0h24v24H0V0z\" fill=\"none\"/>\n",
              "    <path d=\"M18.56 5.44l.94 2.06.94-2.06 2.06-.94-2.06-.94-.94-2.06-.94 2.06-2.06.94zm-11 1L8.5 8.5l.94-2.06 2.06-.94-2.06-.94L8.5 2.5l-.94 2.06-2.06.94zm10 10l.94 2.06.94-2.06 2.06-.94-2.06-.94-.94-2.06-.94 2.06-2.06.94z\"/><path d=\"M17.41 7.96l-1.37-1.37c-.4-.4-.92-.59-1.43-.59-.52 0-1.04.2-1.43.59L10.3 9.45l-7.72 7.72c-.78.78-.78 2.05 0 2.83L4 21.41c.39.39.9.59 1.41.59.51 0 1.02-.2 1.41-.59l7.78-7.78 2.81-2.81c.8-.78.8-2.07 0-2.86zM5.41 20L4 18.59l7.72-7.72 1.47 1.35L5.41 20z\"/>\n",
              "  </svg>\n",
              "      </button>\n",
              "      \n",
              "  <style>\n",
              "    .colab-df-container {\n",
              "      display:flex;\n",
              "      flex-wrap:wrap;\n",
              "      gap: 12px;\n",
              "    }\n",
              "\n",
              "    .colab-df-convert {\n",
              "      background-color: #E8F0FE;\n",
              "      border: none;\n",
              "      border-radius: 50%;\n",
              "      cursor: pointer;\n",
              "      display: none;\n",
              "      fill: #1967D2;\n",
              "      height: 32px;\n",
              "      padding: 0 0 0 0;\n",
              "      width: 32px;\n",
              "    }\n",
              "\n",
              "    .colab-df-convert:hover {\n",
              "      background-color: #E2EBFA;\n",
              "      box-shadow: 0px 1px 2px rgba(60, 64, 67, 0.3), 0px 1px 3px 1px rgba(60, 64, 67, 0.15);\n",
              "      fill: #174EA6;\n",
              "    }\n",
              "\n",
              "    [theme=dark] .colab-df-convert {\n",
              "      background-color: #3B4455;\n",
              "      fill: #D2E3FC;\n",
              "    }\n",
              "\n",
              "    [theme=dark] .colab-df-convert:hover {\n",
              "      background-color: #434B5C;\n",
              "      box-shadow: 0px 1px 3px 1px rgba(0, 0, 0, 0.15);\n",
              "      filter: drop-shadow(0px 1px 2px rgba(0, 0, 0, 0.3));\n",
              "      fill: #FFFFFF;\n",
              "    }\n",
              "  </style>\n",
              "\n",
              "      <script>\n",
              "        const buttonEl =\n",
              "          document.querySelector('#df-fc87e231-477b-4f00-827e-d9b8bc407fa4 button.colab-df-convert');\n",
              "        buttonEl.style.display =\n",
              "          google.colab.kernel.accessAllowed ? 'block' : 'none';\n",
              "\n",
              "        async function convertToInteractive(key) {\n",
              "          const element = document.querySelector('#df-fc87e231-477b-4f00-827e-d9b8bc407fa4');\n",
              "          const dataTable =\n",
              "            await google.colab.kernel.invokeFunction('convertToInteractive',\n",
              "                                                     [key], {});\n",
              "          if (!dataTable) return;\n",
              "\n",
              "          const docLinkHtml = 'Like what you see? Visit the ' +\n",
              "            '<a target=\"_blank\" href=https://colab.research.google.com/notebooks/data_table.ipynb>data table notebook</a>'\n",
              "            + ' to learn more about interactive tables.';\n",
              "          element.innerHTML = '';\n",
              "          dataTable['output_type'] = 'display_data';\n",
              "          await google.colab.output.renderOutput(dataTable, element);\n",
              "          const docLink = document.createElement('div');\n",
              "          docLink.innerHTML = docLinkHtml;\n",
              "          element.appendChild(docLink);\n",
              "        }\n",
              "      </script>\n",
              "    </div>\n",
              "  </div>\n",
              "  "
            ]
          },
          "metadata": {},
          "execution_count": 304
        }
      ]
    },
    {
      "cell_type": "code",
      "source": [
        "df.shape"
      ],
      "metadata": {
        "colab": {
          "base_uri": "https://localhost:8080/"
        },
        "id": "SWFUWRtqG18H",
        "outputId": "91d69583-601e-42d5-ddf2-c8939fd68846"
      },
      "execution_count": null,
      "outputs": [
        {
          "output_type": "execute_result",
          "data": {
            "text/plain": [
              "(1238, 7)"
            ]
          },
          "metadata": {},
          "execution_count": 305
        }
      ]
    },
    {
      "cell_type": "code",
      "source": [
        "df.dtypes"
      ],
      "metadata": {
        "colab": {
          "base_uri": "https://localhost:8080/"
        },
        "id": "jjjvUFtyJAFy",
        "outputId": "96aec66a-07cf-4635-9c03-28958acae9aa"
      },
      "execution_count": null,
      "outputs": [
        {
          "output_type": "execute_result",
          "data": {
            "text/plain": [
              "usp_category            int64\n",
              "usp_class               int64\n",
              "usp_drug                int64\n",
              "kegg_id_drug            int64\n",
              "drug_example            int64\n",
              "kegg_id_drug_example    int64\n",
              "nomenclature            int64\n",
              "dtype: object"
            ]
          },
          "metadata": {},
          "execution_count": 306
        }
      ]
    },
    {
      "cell_type": "markdown",
      "source": [
        "## **Importing new data set with labelencoding**"
      ],
      "metadata": {
        "id": "HH6aK1HXZnxP"
      }
    },
    {
      "cell_type": "code",
      "source": [
        "df.to_csv('new_dataset1.csv', index=False)"
      ],
      "metadata": {
        "id": "S8rxJBWbJFnr"
      },
      "execution_count": null,
      "outputs": []
    },
    {
      "cell_type": "code",
      "source": [
        "dfnew=pd.read_csv(\"new_dataset1.csv\")\n",
        "dfnew.head()\n"
      ],
      "metadata": {
        "colab": {
          "base_uri": "https://localhost:8080/",
          "height": 206
        },
        "id": "qqOdhvc7JJPY",
        "outputId": "4a76d30b-7f00-423a-d5d6-c353effba20c"
      },
      "execution_count": null,
      "outputs": [
        {
          "output_type": "execute_result",
          "data": {
            "text/plain": [
              "   usp_category  usp_class  usp_drug  kegg_id_drug  drug_example  \\\n",
              "0             0         90       116           139           261   \n",
              "1             0         90       116           139           262   \n",
              "2             0         90       116           139           263   \n",
              "3             0         90       159           272           374   \n",
              "4             0         90       159           272           375   \n",
              "\n",
              "   kegg_id_drug_example  nomenclature  \n",
              "0                   795            17  \n",
              "1                   277            16  \n",
              "2                   278            13  \n",
              "3                   498            17  \n",
              "4                   305             7  "
            ],
            "text/html": [
              "\n",
              "  <div id=\"df-105deacd-bf79-45f1-8d3e-3e2b5641b5ea\">\n",
              "    <div class=\"colab-df-container\">\n",
              "      <div>\n",
              "<style scoped>\n",
              "    .dataframe tbody tr th:only-of-type {\n",
              "        vertical-align: middle;\n",
              "    }\n",
              "\n",
              "    .dataframe tbody tr th {\n",
              "        vertical-align: top;\n",
              "    }\n",
              "\n",
              "    .dataframe thead th {\n",
              "        text-align: right;\n",
              "    }\n",
              "</style>\n",
              "<table border=\"1\" class=\"dataframe\">\n",
              "  <thead>\n",
              "    <tr style=\"text-align: right;\">\n",
              "      <th></th>\n",
              "      <th>usp_category</th>\n",
              "      <th>usp_class</th>\n",
              "      <th>usp_drug</th>\n",
              "      <th>kegg_id_drug</th>\n",
              "      <th>drug_example</th>\n",
              "      <th>kegg_id_drug_example</th>\n",
              "      <th>nomenclature</th>\n",
              "    </tr>\n",
              "  </thead>\n",
              "  <tbody>\n",
              "    <tr>\n",
              "      <th>0</th>\n",
              "      <td>0</td>\n",
              "      <td>90</td>\n",
              "      <td>116</td>\n",
              "      <td>139</td>\n",
              "      <td>261</td>\n",
              "      <td>795</td>\n",
              "      <td>17</td>\n",
              "    </tr>\n",
              "    <tr>\n",
              "      <th>1</th>\n",
              "      <td>0</td>\n",
              "      <td>90</td>\n",
              "      <td>116</td>\n",
              "      <td>139</td>\n",
              "      <td>262</td>\n",
              "      <td>277</td>\n",
              "      <td>16</td>\n",
              "    </tr>\n",
              "    <tr>\n",
              "      <th>2</th>\n",
              "      <td>0</td>\n",
              "      <td>90</td>\n",
              "      <td>116</td>\n",
              "      <td>139</td>\n",
              "      <td>263</td>\n",
              "      <td>278</td>\n",
              "      <td>13</td>\n",
              "    </tr>\n",
              "    <tr>\n",
              "      <th>3</th>\n",
              "      <td>0</td>\n",
              "      <td>90</td>\n",
              "      <td>159</td>\n",
              "      <td>272</td>\n",
              "      <td>374</td>\n",
              "      <td>498</td>\n",
              "      <td>17</td>\n",
              "    </tr>\n",
              "    <tr>\n",
              "      <th>4</th>\n",
              "      <td>0</td>\n",
              "      <td>90</td>\n",
              "      <td>159</td>\n",
              "      <td>272</td>\n",
              "      <td>375</td>\n",
              "      <td>305</td>\n",
              "      <td>7</td>\n",
              "    </tr>\n",
              "  </tbody>\n",
              "</table>\n",
              "</div>\n",
              "      <button class=\"colab-df-convert\" onclick=\"convertToInteractive('df-105deacd-bf79-45f1-8d3e-3e2b5641b5ea')\"\n",
              "              title=\"Convert this dataframe to an interactive table.\"\n",
              "              style=\"display:none;\">\n",
              "        \n",
              "  <svg xmlns=\"http://www.w3.org/2000/svg\" height=\"24px\"viewBox=\"0 0 24 24\"\n",
              "       width=\"24px\">\n",
              "    <path d=\"M0 0h24v24H0V0z\" fill=\"none\"/>\n",
              "    <path d=\"M18.56 5.44l.94 2.06.94-2.06 2.06-.94-2.06-.94-.94-2.06-.94 2.06-2.06.94zm-11 1L8.5 8.5l.94-2.06 2.06-.94-2.06-.94L8.5 2.5l-.94 2.06-2.06.94zm10 10l.94 2.06.94-2.06 2.06-.94-2.06-.94-.94-2.06-.94 2.06-2.06.94z\"/><path d=\"M17.41 7.96l-1.37-1.37c-.4-.4-.92-.59-1.43-.59-.52 0-1.04.2-1.43.59L10.3 9.45l-7.72 7.72c-.78.78-.78 2.05 0 2.83L4 21.41c.39.39.9.59 1.41.59.51 0 1.02-.2 1.41-.59l7.78-7.78 2.81-2.81c.8-.78.8-2.07 0-2.86zM5.41 20L4 18.59l7.72-7.72 1.47 1.35L5.41 20z\"/>\n",
              "  </svg>\n",
              "      </button>\n",
              "      \n",
              "  <style>\n",
              "    .colab-df-container {\n",
              "      display:flex;\n",
              "      flex-wrap:wrap;\n",
              "      gap: 12px;\n",
              "    }\n",
              "\n",
              "    .colab-df-convert {\n",
              "      background-color: #E8F0FE;\n",
              "      border: none;\n",
              "      border-radius: 50%;\n",
              "      cursor: pointer;\n",
              "      display: none;\n",
              "      fill: #1967D2;\n",
              "      height: 32px;\n",
              "      padding: 0 0 0 0;\n",
              "      width: 32px;\n",
              "    }\n",
              "\n",
              "    .colab-df-convert:hover {\n",
              "      background-color: #E2EBFA;\n",
              "      box-shadow: 0px 1px 2px rgba(60, 64, 67, 0.3), 0px 1px 3px 1px rgba(60, 64, 67, 0.15);\n",
              "      fill: #174EA6;\n",
              "    }\n",
              "\n",
              "    [theme=dark] .colab-df-convert {\n",
              "      background-color: #3B4455;\n",
              "      fill: #D2E3FC;\n",
              "    }\n",
              "\n",
              "    [theme=dark] .colab-df-convert:hover {\n",
              "      background-color: #434B5C;\n",
              "      box-shadow: 0px 1px 3px 1px rgba(0, 0, 0, 0.15);\n",
              "      filter: drop-shadow(0px 1px 2px rgba(0, 0, 0, 0.3));\n",
              "      fill: #FFFFFF;\n",
              "    }\n",
              "  </style>\n",
              "\n",
              "      <script>\n",
              "        const buttonEl =\n",
              "          document.querySelector('#df-105deacd-bf79-45f1-8d3e-3e2b5641b5ea button.colab-df-convert');\n",
              "        buttonEl.style.display =\n",
              "          google.colab.kernel.accessAllowed ? 'block' : 'none';\n",
              "\n",
              "        async function convertToInteractive(key) {\n",
              "          const element = document.querySelector('#df-105deacd-bf79-45f1-8d3e-3e2b5641b5ea');\n",
              "          const dataTable =\n",
              "            await google.colab.kernel.invokeFunction('convertToInteractive',\n",
              "                                                     [key], {});\n",
              "          if (!dataTable) return;\n",
              "\n",
              "          const docLinkHtml = 'Like what you see? Visit the ' +\n",
              "            '<a target=\"_blank\" href=https://colab.research.google.com/notebooks/data_table.ipynb>data table notebook</a>'\n",
              "            + ' to learn more about interactive tables.';\n",
              "          element.innerHTML = '';\n",
              "          dataTable['output_type'] = 'display_data';\n",
              "          await google.colab.output.renderOutput(dataTable, element);\n",
              "          const docLink = document.createElement('div');\n",
              "          docLink.innerHTML = docLinkHtml;\n",
              "          element.appendChild(docLink);\n",
              "        }\n",
              "      </script>\n",
              "    </div>\n",
              "  </div>\n",
              "  "
            ]
          },
          "metadata": {},
          "execution_count": 308
        }
      ]
    },
    {
      "cell_type": "code",
      "source": [
        "corr = dfnew.corr(method = 'pearson')\n",
        "corr"
      ],
      "metadata": {
        "colab": {
          "base_uri": "https://localhost:8080/",
          "height": 269
        },
        "id": "YK68nbd3ZL-u",
        "outputId": "e419ed7c-16f5-400e-c208-f3df51ac508c"
      },
      "execution_count": null,
      "outputs": [
        {
          "output_type": "execute_result",
          "data": {
            "text/plain": [
              "                      usp_category  usp_class  usp_drug  kegg_id_drug  \\\n",
              "usp_category              1.000000  -0.118034 -0.005977     -0.188535   \n",
              "usp_class                -0.118034   1.000000  0.052905      0.136224   \n",
              "usp_drug                 -0.005977   0.052905  1.000000      0.028211   \n",
              "kegg_id_drug             -0.188535   0.136224  0.028211      1.000000   \n",
              "drug_example              0.002628   0.044681  0.983349      0.018037   \n",
              "kegg_id_drug_example     -0.003993   0.024129  0.033507      0.130333   \n",
              "nomenclature             -0.095063   0.042457 -0.009099     -0.076965   \n",
              "\n",
              "                      drug_example  kegg_id_drug_example  nomenclature  \n",
              "usp_category              0.002628             -0.003993     -0.095063  \n",
              "usp_class                 0.044681              0.024129      0.042457  \n",
              "usp_drug                  0.983349              0.033507     -0.009099  \n",
              "kegg_id_drug              0.018037              0.130333     -0.076965  \n",
              "drug_example              1.000000              0.038857     -0.009084  \n",
              "kegg_id_drug_example      0.038857              1.000000     -0.380890  \n",
              "nomenclature             -0.009084             -0.380890      1.000000  "
            ],
            "text/html": [
              "\n",
              "  <div id=\"df-e42de1ca-e383-4c2d-9bdf-58e6bb338a37\">\n",
              "    <div class=\"colab-df-container\">\n",
              "      <div>\n",
              "<style scoped>\n",
              "    .dataframe tbody tr th:only-of-type {\n",
              "        vertical-align: middle;\n",
              "    }\n",
              "\n",
              "    .dataframe tbody tr th {\n",
              "        vertical-align: top;\n",
              "    }\n",
              "\n",
              "    .dataframe thead th {\n",
              "        text-align: right;\n",
              "    }\n",
              "</style>\n",
              "<table border=\"1\" class=\"dataframe\">\n",
              "  <thead>\n",
              "    <tr style=\"text-align: right;\">\n",
              "      <th></th>\n",
              "      <th>usp_category</th>\n",
              "      <th>usp_class</th>\n",
              "      <th>usp_drug</th>\n",
              "      <th>kegg_id_drug</th>\n",
              "      <th>drug_example</th>\n",
              "      <th>kegg_id_drug_example</th>\n",
              "      <th>nomenclature</th>\n",
              "    </tr>\n",
              "  </thead>\n",
              "  <tbody>\n",
              "    <tr>\n",
              "      <th>usp_category</th>\n",
              "      <td>1.000000</td>\n",
              "      <td>-0.118034</td>\n",
              "      <td>-0.005977</td>\n",
              "      <td>-0.188535</td>\n",
              "      <td>0.002628</td>\n",
              "      <td>-0.003993</td>\n",
              "      <td>-0.095063</td>\n",
              "    </tr>\n",
              "    <tr>\n",
              "      <th>usp_class</th>\n",
              "      <td>-0.118034</td>\n",
              "      <td>1.000000</td>\n",
              "      <td>0.052905</td>\n",
              "      <td>0.136224</td>\n",
              "      <td>0.044681</td>\n",
              "      <td>0.024129</td>\n",
              "      <td>0.042457</td>\n",
              "    </tr>\n",
              "    <tr>\n",
              "      <th>usp_drug</th>\n",
              "      <td>-0.005977</td>\n",
              "      <td>0.052905</td>\n",
              "      <td>1.000000</td>\n",
              "      <td>0.028211</td>\n",
              "      <td>0.983349</td>\n",
              "      <td>0.033507</td>\n",
              "      <td>-0.009099</td>\n",
              "    </tr>\n",
              "    <tr>\n",
              "      <th>kegg_id_drug</th>\n",
              "      <td>-0.188535</td>\n",
              "      <td>0.136224</td>\n",
              "      <td>0.028211</td>\n",
              "      <td>1.000000</td>\n",
              "      <td>0.018037</td>\n",
              "      <td>0.130333</td>\n",
              "      <td>-0.076965</td>\n",
              "    </tr>\n",
              "    <tr>\n",
              "      <th>drug_example</th>\n",
              "      <td>0.002628</td>\n",
              "      <td>0.044681</td>\n",
              "      <td>0.983349</td>\n",
              "      <td>0.018037</td>\n",
              "      <td>1.000000</td>\n",
              "      <td>0.038857</td>\n",
              "      <td>-0.009084</td>\n",
              "    </tr>\n",
              "    <tr>\n",
              "      <th>kegg_id_drug_example</th>\n",
              "      <td>-0.003993</td>\n",
              "      <td>0.024129</td>\n",
              "      <td>0.033507</td>\n",
              "      <td>0.130333</td>\n",
              "      <td>0.038857</td>\n",
              "      <td>1.000000</td>\n",
              "      <td>-0.380890</td>\n",
              "    </tr>\n",
              "    <tr>\n",
              "      <th>nomenclature</th>\n",
              "      <td>-0.095063</td>\n",
              "      <td>0.042457</td>\n",
              "      <td>-0.009099</td>\n",
              "      <td>-0.076965</td>\n",
              "      <td>-0.009084</td>\n",
              "      <td>-0.380890</td>\n",
              "      <td>1.000000</td>\n",
              "    </tr>\n",
              "  </tbody>\n",
              "</table>\n",
              "</div>\n",
              "      <button class=\"colab-df-convert\" onclick=\"convertToInteractive('df-e42de1ca-e383-4c2d-9bdf-58e6bb338a37')\"\n",
              "              title=\"Convert this dataframe to an interactive table.\"\n",
              "              style=\"display:none;\">\n",
              "        \n",
              "  <svg xmlns=\"http://www.w3.org/2000/svg\" height=\"24px\"viewBox=\"0 0 24 24\"\n",
              "       width=\"24px\">\n",
              "    <path d=\"M0 0h24v24H0V0z\" fill=\"none\"/>\n",
              "    <path d=\"M18.56 5.44l.94 2.06.94-2.06 2.06-.94-2.06-.94-.94-2.06-.94 2.06-2.06.94zm-11 1L8.5 8.5l.94-2.06 2.06-.94-2.06-.94L8.5 2.5l-.94 2.06-2.06.94zm10 10l.94 2.06.94-2.06 2.06-.94-2.06-.94-.94-2.06-.94 2.06-2.06.94z\"/><path d=\"M17.41 7.96l-1.37-1.37c-.4-.4-.92-.59-1.43-.59-.52 0-1.04.2-1.43.59L10.3 9.45l-7.72 7.72c-.78.78-.78 2.05 0 2.83L4 21.41c.39.39.9.59 1.41.59.51 0 1.02-.2 1.41-.59l7.78-7.78 2.81-2.81c.8-.78.8-2.07 0-2.86zM5.41 20L4 18.59l7.72-7.72 1.47 1.35L5.41 20z\"/>\n",
              "  </svg>\n",
              "      </button>\n",
              "      \n",
              "  <style>\n",
              "    .colab-df-container {\n",
              "      display:flex;\n",
              "      flex-wrap:wrap;\n",
              "      gap: 12px;\n",
              "    }\n",
              "\n",
              "    .colab-df-convert {\n",
              "      background-color: #E8F0FE;\n",
              "      border: none;\n",
              "      border-radius: 50%;\n",
              "      cursor: pointer;\n",
              "      display: none;\n",
              "      fill: #1967D2;\n",
              "      height: 32px;\n",
              "      padding: 0 0 0 0;\n",
              "      width: 32px;\n",
              "    }\n",
              "\n",
              "    .colab-df-convert:hover {\n",
              "      background-color: #E2EBFA;\n",
              "      box-shadow: 0px 1px 2px rgba(60, 64, 67, 0.3), 0px 1px 3px 1px rgba(60, 64, 67, 0.15);\n",
              "      fill: #174EA6;\n",
              "    }\n",
              "\n",
              "    [theme=dark] .colab-df-convert {\n",
              "      background-color: #3B4455;\n",
              "      fill: #D2E3FC;\n",
              "    }\n",
              "\n",
              "    [theme=dark] .colab-df-convert:hover {\n",
              "      background-color: #434B5C;\n",
              "      box-shadow: 0px 1px 3px 1px rgba(0, 0, 0, 0.15);\n",
              "      filter: drop-shadow(0px 1px 2px rgba(0, 0, 0, 0.3));\n",
              "      fill: #FFFFFF;\n",
              "    }\n",
              "  </style>\n",
              "\n",
              "      <script>\n",
              "        const buttonEl =\n",
              "          document.querySelector('#df-e42de1ca-e383-4c2d-9bdf-58e6bb338a37 button.colab-df-convert');\n",
              "        buttonEl.style.display =\n",
              "          google.colab.kernel.accessAllowed ? 'block' : 'none';\n",
              "\n",
              "        async function convertToInteractive(key) {\n",
              "          const element = document.querySelector('#df-e42de1ca-e383-4c2d-9bdf-58e6bb338a37');\n",
              "          const dataTable =\n",
              "            await google.colab.kernel.invokeFunction('convertToInteractive',\n",
              "                                                     [key], {});\n",
              "          if (!dataTable) return;\n",
              "\n",
              "          const docLinkHtml = 'Like what you see? Visit the ' +\n",
              "            '<a target=\"_blank\" href=https://colab.research.google.com/notebooks/data_table.ipynb>data table notebook</a>'\n",
              "            + ' to learn more about interactive tables.';\n",
              "          element.innerHTML = '';\n",
              "          dataTable['output_type'] = 'display_data';\n",
              "          await google.colab.output.renderOutput(dataTable, element);\n",
              "          const docLink = document.createElement('div');\n",
              "          docLink.innerHTML = docLinkHtml;\n",
              "          element.appendChild(docLink);\n",
              "        }\n",
              "      </script>\n",
              "    </div>\n",
              "  </div>\n",
              "  "
            ]
          },
          "metadata": {},
          "execution_count": 309
        }
      ]
    },
    {
      "cell_type": "code",
      "source": [
        "plt.figure(figsize=(5,5), dpi =100)\n",
        "sns.heatmap(corr,annot=True,fmt=\".2f\", linewidth=.5)\n",
        "plt.show()\n",
        "\n"
      ],
      "metadata": {
        "colab": {
          "base_uri": "https://localhost:8080/",
          "height": 596
        },
        "id": "rQ-QIvp5ZRbc",
        "outputId": "bbdaee38-5879-420f-a6bd-94390f1c04ad"
      },
      "execution_count": null,
      "outputs": [
        {
          "output_type": "display_data",
          "data": {
            "text/plain": [
              "<Figure size 500x500 with 2 Axes>"
            ],
            "image/png": "[encoded data removed]"
          },
          "metadata": {}
        }
      ]
    },
    {
      "cell_type": "code",
      "source": [
        "corr['usp_category'].sort_values(ascending = False)"
      ],
      "metadata": {
        "colab": {
          "base_uri": "https://localhost:8080/"
        },
        "id": "9MdKq6k1ZYgE",
        "outputId": "49153ae3-f4cd-4858-e02b-d6fdc5cda6de"
      },
      "execution_count": null,
      "outputs": [
        {
          "output_type": "execute_result",
          "data": {
            "text/plain": [
              "usp_category            1.000000\n",
              "drug_example            0.002628\n",
              "kegg_id_drug_example   -0.003993\n",
              "usp_drug               -0.005977\n",
              "nomenclature           -0.095063\n",
              "usp_class              -0.118034\n",
              "kegg_id_drug           -0.188535\n",
              "Name: usp_category, dtype: float64"
            ]
          },
          "metadata": {},
          "execution_count": 311
        }
      ]
    },
    {
      "cell_type": "markdown",
      "source": [
        "## **Classification and test train split**"
      ],
      "metadata": {
        "id": "sYP1B0KWZaeS"
      }
    },
    {
      "cell_type": "code",
      "source": [
        "#Identifing target variable\n",
        "y = dfnew[['usp_category']]\n",
        "X = dfnew.drop (columns = ['usp_category','nomenclature'])"
      ],
      "metadata": {
        "id": "0YmNGCtBJL97"
      },
      "execution_count": null,
      "outputs": []
    },
    {
      "cell_type": "markdown",
      "source": [
        "**GRADIENT BOOSTING CLASSIFIER**"
      ],
      "metadata": {
        "id": "PhfzwO46tAa3"
      }
    },
    {
      "cell_type": "code",
      "source": [
        "import pandas as pd\n",
        "from sklearn.ensemble import GradientBoostingClassifier\n",
        "from sklearn.model_selection import train_test_split\n",
        "from sklearn.metrics import accuracy_score\n",
        "\n",
        "\n",
        "\n",
        "# Split the data into training and testing sets\n",
        "X_train, X_test, y_train, y_test = train_test_split(X, y, test_size=0.2, random_state=42)\n",
        "\n",
        "# Create a Gradient Boosting Classifier object\n",
        "clf = GradientBoostingClassifier(n_estimators=100, learning_rate=0.1, max_depth=3, random_state=42)\n",
        "\n",
        "# Train the classifier on the training data\n",
        "clf.fit(X_train, y_train)\n",
        "\n",
        "# Make predictions on the testing data\n",
        "y_pred = clf.predict(X_test)\n",
        "\n",
        "# Calculate the accuracy of the classifier\n",
        "accuracy = accuracy_score(y_test, y_pred)\n",
        "print('Accuracy:', accuracy*100,\"%\")\n"
      ],
      "metadata": {
        "colab": {
          "base_uri": "https://localhost:8080/"
        },
        "id": "qeckzaNjlYBe",
        "outputId": "d71fd3e7-3bfb-40aa-a92f-9ce0f33899a6"
      },
      "execution_count": null,
      "outputs": [
        {
          "output_type": "stream",
          "name": "stderr",
          "text": [
            "/usr/local/lib/python3.10/dist-packages/sklearn/ensemble/_gb.py:437: DataConversionWarning: A column-vector y was passed when a 1d array was expected. Please change the shape of y to (n_samples, ), for example using ravel().\n",
            "  y = column_or_1d(y, warn=True)\n"
          ]
        },
        {
          "output_type": "stream",
          "name": "stdout",
          "text": [
            "Accuracy: 88.70967741935483 %\n"
          ]
        }
      ]
    },
    {
      "cell_type": "markdown",
      "source": [
        "## **SMOTE**"
      ],
      "metadata": {
        "id": "11NI8S1gQeS8"
      }
    },
    {
      "cell_type": "code",
      "source": [
        "# from sklearn.datasets import make_classification\n",
        "# from sklearn.model_selection import train_test_split\n",
        "\n",
        "# from sklearn.linear_model import LogisticRegression\n",
        "# from sklearn.metrics import accuracy_score\n"
      ],
      "metadata": {
        "id": "0ORzq0jKRRX8"
      },
      "execution_count": null,
      "outputs": []
    },
    {
      "cell_type": "code",
      "source": [
        "\n",
        "# # generate imbalanced classification data\n",
        "\n",
        "# X, y = make_classification(n_classes=31, class_sep=0.5,\n",
        "#                            weights=[0.05]*5 + [0.01]*26, n_informative=5,\n",
        "#                            n_redundant=1, flip_y=0, n_features=6,\n",
        "#                            n_clusters_per_class=1, n_samples=1238,\n",
        "#                            random_state=42)\n",
        "\n",
        "# # split the data into training and testing sets\n",
        "# X_train, X_test, y_train, y_test = train_test_split(X, y, test_size=0.3, random_state=10)\n",
        "\n",
        "# # perform SMOTE on the training data\n",
        "# smote = SMOTE()\n",
        "# X_resampled, y_resampled = smote.fit_resample(X_train, y_train)\n",
        "\n",
        "# # train a logistic regression model on the resampled data\n",
        "# logreg = LogisticRegression()\n",
        "# logreg.fit(X_resampled, y_resampled)\n",
        "\n",
        "# # evaluate the model on the test data\n",
        "# y_pred = logreg.predict(X_test)\n",
        "# acc = accuracy_score(y_test, y_pred)\n",
        "# print(\"Accuracy: {:.2f}%\".format(acc * 100))"
      ],
      "metadata": {
        "id": "dw8SLvGMRNPN"
      },
      "execution_count": null,
      "outputs": []
    },
    {
      "cell_type": "markdown",
      "source": [
        "SGDC is more suitable for multi classification.\n",
        "\n",
        "\n",
        "\n",
        "\n",
        "\n",
        "\n",
        "<br>\n",
        "\n",
        "It is an online learning algorithm , meanining that it updates after each individual record."
      ],
      "metadata": {
        "id": "0aJ9lziyaX10"
      }
    },
    {
      "cell_type": "code",
      "source": [
        "# from sklearn.model_selection import train_test_split\n",
        "# X, y = make_classification()\n",
        "# from sklearn.linear_model import SGDClassifier\n",
        "\n",
        "\n",
        "# # Split the data into training and testing sets\n",
        "# X_train, X_test, y_train, y_test = train_test_split(X, y,test_size=0.3, random_state=40) #30% testing and 70% training , random state is 40 ,\n",
        "\n",
        "# # Create an instance of SGDClassifier and set the maximum number of iterations to 1000\n",
        "# clf = SGDClassifier(max_iter=1000)\n",
        "\n",
        "# # Fit the classifier to the training data\n",
        "# clf.fit(X_train, y_train)\n",
        "\n",
        "# # Evaluate the classifier on the testing data\n",
        "# accuracy = clf.score(X_test, y_test)\n",
        "\n",
        "# print(\"Accuracy:\", (accuracy*100),\"%\")\n"
      ],
      "metadata": {
        "id": "7lX8cJH_JWni"
      },
      "execution_count": null,
      "outputs": []
    }
  ]
}